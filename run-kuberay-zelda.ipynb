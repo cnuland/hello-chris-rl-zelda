{
  "cells": [
    {
      "cell_type": "markdown",
      "metadata": {},
      "source": [
        "# Ray RLlib Training for Zelda Oracle of Seasons\n",
        "\n",
        "This notebook deploys a Ray cluster on OpenShift/Kubernetes and submits a distributed training job.\n",
        "\n",
        "Based on the Double Dragon KubeRay implementation.\n"
      ]
    },
    {
      "cell_type": "code",
      "execution_count": null,
      "metadata": {},
      "outputs": [],
      "source": [
        "!pip install codeflare-sdk\n"
      ]
    },
    {
      "cell_type": "code",
      "execution_count": null,
      "metadata": {},
      "outputs": [],
      "source": [
        "from codeflare_sdk import Cluster, ClusterConfiguration, TokenAuthentication\n",
        "import os\n",
        "import time\n"
      ]
    },
    {
      "cell_type": "code",
      "execution_count": null,
      "metadata": {},
      "outputs": [],
      "source": [
        "# Authenticate with OpenShift\n",
        "# Get your token: oc whoami -t\n",
        "# Get your server: oc cluster-info\n",
        "\n",
        "auth = TokenAuthentication(\n",
        "    token = 'YOUR_TOKEN_HERE',  # Replace with: oc whoami -t\n",
        "    server = 'YOUR_SERVER_HERE',  # Replace with: oc cluster-info\n",
        "    skip_tls=False\n",
        ")\n",
        "auth.login()\n"
      ]
    },
    {
      "cell_type": "code",
      "execution_count": null,
      "metadata": {},
      "outputs": [],
      "source": [
        "# Configure Ray Cluster\n",
        "# ✅ REUSING the Double Dragon image - it already has everything we need!\n",
        "\n",
        "cluster = Cluster(ClusterConfiguration(\n",
        "    head_cpu_requests=10,\n",
        "    head_cpu_limits=12,\n",
        "    head_memory_requests=10,\n",
        "    head_memory_limits=12,\n",
        "    name='zelda-rl',\n",
        "    namespace='YOUR_NAMESPACE_HERE',  # Replace with your namespace\n",
        "    num_workers=3,\n",
        "    worker_cpu_requests=12,\n",
        "    worker_cpu_limits=16,\n",
        "    worker_memory_requests=12,\n",
        "    worker_memory_limits=20,\n",
        "    \n",
        "    # ✅ Reusing DD image - has Ray, PyTorch, PyBoy, CUDA, all dependencies\n",
        "    image=\"quay.io/cnuland/dd-kuberay-worker:latest\",\n",
        "    \n",
        "    # GPU configuration\n",
        "    head_extended_resource_requests={'nvidia.com/gpu':1},\n",
        "    worker_extended_resource_requests={'nvidia.com/gpu':1},\n",
        "    \n",
        "    write_to_file=False,\n",
        "    local_queue=\"user-queue\"\n",
        "))\n"
      ]
    },
    {
      "cell_type": "code",
      "execution_count": null,
      "metadata": {},
      "outputs": [],
      "source": [
        "# Create the Ray cluster\n",
        "cluster.up()\n",
        "cluster.wait_ready()\n"
      ]
    },
    {
      "cell_type": "code",
      "execution_count": null,
      "metadata": {},
      "outputs": [],
      "source": [
        "# Get cluster details and submit job\n",
        "clusterDetails = cluster.details()\n",
        "print(f\"Ray Dashboard URL: {clusterDetails.dashboard}\")\n",
        "\n",
        "client = cluster.job_client\n",
        "\n",
        "# Configure environment variables\n",
        "env_vars = {\n",
        "    # S3 Storage (MinIO)\n",
        "    'S3_ACCESS_KEY_ID': 'YOUR_S3_KEY',\n",
        "    'S3_SECRET_ACCESS_KEY': 'YOUR_S3_SECRET',\n",
        "    'S3_REGION_NAME': 'region',\n",
        "    'S3_ENDPOINT_URL': 'YOUR_S3_ENDPOINT',\n",
        "    'S3_BUCKET_NAME': 'YOUR_BUCKET_NAME',\n",
        "    \n",
        "    # LLM endpoint (assumes LLM service deployed in cluster)\n",
        "    'LLM_ENDPOINT': 'http://llama4-scout-service:8000/v1/chat/completions',\n",
        "}\n",
        "\n",
        "# Submit training job\n",
        "# Ray's working_dir uploads our Zelda code to all workers!\n",
        "submission_id = client.submit_job(\n",
        "    entrypoint=\"python run-ray-zelda.py\",\n",
        "    runtime_env={\n",
        "        \"env_vars\": env_vars,\n",
        "        'working_dir': './',  # Uploads our Zelda code, configs, and ROMs\n",
        "        'pip': [],  # DD image already has everything!\n",
        "        \"excludes\": [\"*.sh\", \"*.ipynb\", \"*.md\", \"__pycache__\", \"*.pyc\", \"checkpoints/\", \"training_runs/\"],\n",
        "    }\n",
        ")\n",
        "\n",
        "print(f\"\\n✅ Job submitted successfully!\")\n",
        "print(f\"Submission ID: {submission_id}\")\n",
        "print(f\"Monitor at: {clusterDetails.dashboard}\")\n"
      ]
    },
    {
      "cell_type": "code",
      "execution_count": null,
      "metadata": {},
      "outputs": [],
      "source": [
        "# Monitor job status\n",
        "from ray.job_submission import JobStatus\n",
        "\n",
        "while True:\n",
        "    status = client.get_job_status(submission_id)\n",
        "    print(f\"Job status: {status}\")\n",
        "    \n",
        "    if status in [JobStatus.SUCCEEDED, JobStatus.FAILED, JobStatus.STOPPED]:\n",
        "        print(f\"\\n📊 Final job logs:\\n{client.get_job_logs(submission_id)}\")\n",
        "        break\n",
        "    \n",
        "    time.sleep(30)  # Check every 30 seconds\n"
      ]
    },
    {
      "cell_type": "code",
      "execution_count": null,
      "metadata": {},
      "outputs": [],
      "source": [
        "# Get job logs (anytime)\n",
        "logs = client.get_job_logs(submission_id)\n",
        "print(logs)\n"
      ]
    },
    {
      "cell_type": "code",
      "execution_count": null,
      "metadata": {},
      "outputs": [],
      "source": [
        "# Clean up (when training is complete)\n",
        "# cluster.down()\n"
      ]
    }
  ],
  "metadata": {
    "language_info": {
      "name": "python"
    }
  },
  "nbformat": 4,
  "nbformat_minor": 2
}

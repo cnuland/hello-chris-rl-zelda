{
  "cells": [
    {
      "cell_type": "markdown",
      "metadata": {},
      "source": [
        "# Ray RLlib Training for Zelda Oracle of Seasons\n",
        "\n",
        "This notebook deploys a Ray cluster on OpenShift/Kubernetes and submits a distributed training job.\n",
        "\n",
        "Based on the Double Dragon KubeRay implementation.\n"
      ]
    },
    {
      "cell_type": "code",
      "execution_count": null,
      "metadata": {},
      "outputs": [],
      "source": [
        "!pip install codeflare-sdk\n"
      ]
    },
    {
      "cell_type": "code",
      "execution_count": null,
      "metadata": {},
      "outputs": [],
      "source": [
        "# Updated imports for newer codeflare_sdk versions\n",
        "from codeflare_sdk.cluster.cluster import Cluster, ClusterConfiguration\n",
        "from codeflare_sdk.cluster.auth import TokenAuthentication\n",
        "import os\n",
        "import time\n"
      ]
    },
    {
      "cell_type": "code",
      "execution_count": null,
      "metadata": {},
      "outputs": [],
      "source": [
        "# Authenticate with OpenShift\n",
        "# Get your token: oc whoami -t\n",
        "# Get your server: oc cluster-info\n",
        "\n",
        "auth = TokenAuthentication(\n",
        "    token = 'YOUR_TOKEN_HERE',  # Replace with: oc whoami -t\n",
        "    server = 'YOUR_SERVER_HERE',  # Replace with: oc cluster-info\n",
        "    skip_tls=False\n",
        ")\n",
        "auth.login()\n"
      ]
    },
    {
      "cell_type": "code",
      "execution_count": null,
      "metadata": {},
      "outputs": [],
      "source": [
        "# First, let's check what parameters ClusterConfiguration actually accepts\n",
        "import inspect\n",
        "sig = inspect.signature(ClusterConfiguration.__init__)\n",
        "print(\"Available ClusterConfiguration parameters:\")\n",
        "for param_name, param in sig.parameters.items():\n",
        "    if param_name != 'self':\n",
        "        default = param.default if param.default != inspect.Parameter.empty else \"REQUIRED\"\n",
        "        print(f\"  {param_name}: {default}\")\n"
      ]
    },
    {
      "cell_type": "code",
      "execution_count": null,
      "metadata": {},
      "outputs": [],
      "source": [
        "# Configure Ray Cluster\n",
        "# ✅ REUSING the Double Dragon image - it already has everything we need!\n",
        "# 🎮 PyBoy emulator works great on CPU - no GPUs needed!\n",
        "\n",
        "# Try removing local_queue if Kueue isn't configured\n",
        "cluster = Cluster(ClusterConfiguration(\n",
        "    name='zelda-rl',\n",
        "    namespace='zelda-hybrid-rl-llm',\n",
        "    num_workers=3,\n",
        "    \n",
        "    # CPU resources (applies to both head and workers)\n",
        "    min_cpus=8,\n",
        "    max_cpus=8,\n",
        "    \n",
        "    # Memory resources in GB (applies to both head and workers)\n",
        "    min_memory=12,\n",
        "    max_memory=16,\n",
        "    \n",
        "    # No GPUs needed - PyBoy runs great on CPU!\n",
        "    num_gpus=0,\n",
        "    \n",
        "    # ✅ Reusing DD image - has Ray, PyTorch, PyBoy, all dependencies\n",
        "    image=\"quay.io/cnuland/dd-kuberay-worker:latest\",\n",
        "    \n",
        "    # Remove local_queue if Kueue is not set up\n",
        "    # local_queue=\"user-queue\",  # Comment this out if you don't have Kueue\n",
        "))\n",
        "\n",
        "print(f\"Cluster configuration created for: {cluster.config.name}\")\n",
        "print(f\"Namespace: {cluster.config.namespace}\")\n",
        "print(f\"Workers: {cluster.config.num_workers}\")\n",
        "print(f\"Image: {cluster.config.image}\")\n"
      ]
    },
    {
      "cell_type": "code",
      "execution_count": null,
      "metadata": {},
      "outputs": [],
      "source": [
        "# Create the Ray cluster\n",
        "print(\"Creating Ray cluster...\")\n",
        "cluster.up()\n",
        "\n",
        "# Check status immediately\n",
        "print(\"\\nChecking cluster status...\")\n",
        "status_info = cluster.status()\n",
        "print(f\"Status: {status_info}\")\n",
        "\n",
        "# Try to wait for ready (with better error handling)\n",
        "try:\n",
        "    print(\"\\nWaiting for cluster to be ready...\")\n",
        "    cluster.wait_ready(timeout=600)  # 10 minute timeout\n",
        "    print(\"✅ Cluster is ready!\")\n",
        "except Exception as e:\n",
        "    print(f\"⚠️ Error waiting for cluster: {e}\")\n",
        "    print(\"\\nCluster details:\")\n",
        "    print(cluster.details())\n"
      ]
    },
    {
      "cell_type": "code",
      "execution_count": null,
      "metadata": {},
      "outputs": [],
      "source": [
        "# Diagnostic: Check if RayCluster resource was created\n",
        "import subprocess\n",
        "\n",
        "print(\"🔍 Checking if RayCluster resource was created...\")\n",
        "try:\n",
        "    result = subprocess.run(\n",
        "        [\"oc\", \"get\", \"raycluster\", \"-n\", \"zelda-hybrid-rl-llm\"],\n",
        "        capture_output=True, text=True, timeout=10\n",
        "    )\n",
        "    print(result.stdout if result.returncode == 0 else result.stderr)\n",
        "    \n",
        "    print(\"\\n🔍 Checking pods in namespace...\")\n",
        "    result2 = subprocess.run(\n",
        "        [\"oc\", \"get\", \"pods\", \"-n\", \"zelda-hybrid-rl-llm\"],\n",
        "        capture_output=True, text=True, timeout=10\n",
        "    )\n",
        "    print(result2.stdout if result2.returncode == 0 else result2.stderr)\n",
        "    \n",
        "except Exception as e:\n",
        "    print(f\"Error running diagnostic commands: {e}\")\n",
        "    print(\"You may need to manually check: oc get raycluster -n zelda-hybrid-rl-llm\")\n"
      ]
    },
    {
      "cell_type": "code",
      "execution_count": null,
      "metadata": {},
      "outputs": [],
      "source": [
        "# Get cluster details and submit job\n",
        "clusterDetails = cluster.details()\n",
        "print(f\"Ray Dashboard URL: {clusterDetails.dashboard}\")\n",
        "\n",
        "client = cluster.job_client\n",
        "\n",
        "# Configure environment variables\n",
        "env_vars = {\n",
        "    # S3 Storage (MinIO)\n",
        "    'S3_ACCESS_KEY_ID': 'YOUR_S3_KEY',\n",
        "    'S3_SECRET_ACCESS_KEY': 'YOUR_S3_SECRET',\n",
        "    'S3_REGION_NAME': 'region',\n",
        "    'S3_ENDPOINT_URL': 'YOUR_S3_ENDPOINT',\n",
        "    'S3_BUCKET_NAME': 'YOUR_BUCKET_NAME',\n",
        "    \n",
        "    # LLM endpoint (assumes LLM service deployed in cluster)\n",
        "    'LLM_ENDPOINT': 'http://llama4-scout-service:8000/v1/chat/completions',\n",
        "}\n",
        "\n",
        "# Submit training job\n",
        "# Ray's working_dir uploads our Zelda code to all workers!\n",
        "submission_id = client.submit_job(\n",
        "    entrypoint=\"python run-ray-zelda.py\",\n",
        "    runtime_env={\n",
        "        \"env_vars\": env_vars,\n",
        "        'working_dir': './',  # Uploads our Zelda code, configs, and ROMs\n",
        "        'pip': [],  # DD image already has everything!\n",
        "        \"excludes\": [\"*.sh\", \"*.ipynb\", \"*.md\", \"__pycache__\", \"*.pyc\", \"checkpoints/\", \"training_runs/\"],\n",
        "    }\n",
        ")\n",
        "\n",
        "print(f\"\\n✅ Job submitted successfully!\")\n",
        "print(f\"Submission ID: {submission_id}\")\n",
        "print(f\"Monitor at: {clusterDetails.dashboard}\")\n"
      ]
    },
    {
      "cell_type": "code",
      "execution_count": null,
      "metadata": {},
      "outputs": [],
      "source": [
        "# Monitor job status\n",
        "from ray.job_submission import JobStatus\n",
        "\n",
        "while True:\n",
        "    status = client.get_job_status(submission_id)\n",
        "    print(f\"Job status: {status}\")\n",
        "    \n",
        "    if status in [JobStatus.SUCCEEDED, JobStatus.FAILED, JobStatus.STOPPED]:\n",
        "        print(f\"\\n📊 Final job logs:\\n{client.get_job_logs(submission_id)}\")\n",
        "        break\n",
        "    \n",
        "    time.sleep(30)  # Check every 30 seconds\n"
      ]
    },
    {
      "cell_type": "code",
      "execution_count": null,
      "metadata": {},
      "outputs": [],
      "source": [
        "# Get job logs (anytime)\n",
        "logs = client.get_job_logs(submission_id)\n",
        "print(logs)\n"
      ]
    },
    {
      "cell_type": "code",
      "execution_count": null,
      "metadata": {},
      "outputs": [],
      "source": [
        "# Clean up (when training is complete)\n",
        "# cluster.down()\n"
      ]
    }
  ],
  "metadata": {
    "language_info": {
      "name": "python"
    }
  },
  "nbformat": 4,
  "nbformat_minor": 2
}
